{
 "cells": [
  {
   "cell_type": "markdown",
   "metadata": {},
   "source": [
    "# Practica de Visualización\n",
    "\n",
    "Un dataset de NOAA está almacenado en el archivo `data/fb441e62df2d58994928907a91895ec62c2c42e6cd075c2700843b89.csv`. Este es el dataset que utilizaremos para la práctica.\n",
    "\n",
    "Nota: Los datos para esta práctica forman parte de un dataset perteneciente a The data for this assignment comes from a subset of The National Centers for Environmental Information (NCEI) [Daily Global Historical Climatology Network](https://www1.ncdc.noaa.gov/pub/data/ghcn/daily/readme.txt) (GHCN-Daily). El GHCN-Daily se compone de registros climáticos diarios de miles de estaciones de la superficie terrestre en todo el mundo.\n",
    "\n",
    "Cada fila en el archivo de datos corresponde a una sola observación.\n",
    "\n",
    "Nos proporciona las siguientes variables:\n",
    "\n",
    "- **id** : código de identificación de la estación\n",
    "- **date** : fecha en formato YYYY-MM-DD (por ejemplo: 2012-01-24 = 24 de enero de 2012)\n",
    "- **element** : indica el tipo de medición\n",
    "    - **TMAX** : Temperatura máxima\n",
    "    - **TMIN** : Temperatura mínima\n",
    "- **value**: valor de la temperatura (en décimas de grados centígrados)\n",
    "\n",
    "## Indicaciones\n",
    "\n",
    "1. Lee la documentación y familiarícese con el conjunto de datos, luego escriba un código python que arroje un gráfico lineal de las temperaturas máximas y mínimas récord por día del año durante el período 2005-2014. El área entre las temperaturas máximas y mínimas récord de cada día debe estar sombreada.\n",
    "2. Superponga una dispersión de los datos de 2015 para cualquier punto (máximos y mínimos) para los cuales se superó el récord de diez años (2005-2014) máximo o mínimo histórico en 2015.\n",
    "3. Debes tener cuidado con los días bisiestos (es decir, el 29 de febrero), es totalmente razonable eliminar estos puntos del conjunto de datos para esta visualización.\n",
    "4. ¡Haz que la imagen sea agradable! Considera problemas como leyendas, etiquetas y líneas en demasía.\n",
    "\n",
    "Los datos proporcionados están cerca de **Ann Arbor, Michigan, Estados Unidos**."
   ]
  },
  {
   "cell_type": "code",
   "source": [
    "import matplotlib.pyplot as plt\n",
    "import pandas as pd\n",
    "\n",
    "# Tu código a partir de aquí.\n",
    "\n",
    "df = pd.read_csv(\"../data/fb441e62df2d58994928907a91895ec62c2c42e6cd075c2700843b89.csv\", parse_dates=['Date'])\n",
    "\n",
    "# Eliminar los 29 de febrero\n",
    "df = df[~((df[\"Date\"].dt.month == 2) & (df[\"Date\"].dt.day == 29))]\n",
    "\n",
    "# Verificar que todo esté bien\n",
    "print(df.info())         # Muestra los tipos de datos\n",
    "print(df.head())         # Muestra las primeras filas\n"
   ],
   "metadata": {
    "collapsed": false,
    "ExecuteTime": {
     "end_time": "2025-10-23T15:00:27.061113Z",
     "start_time": "2025-10-23T15:00:26.879346Z"
    }
   },
   "outputs": [
    {
     "name": "stdout",
     "output_type": "stream",
     "text": [
      "<class 'pandas.core.frame.DataFrame'>\n",
      "Index: 165002 entries, 0 to 165084\n",
      "Data columns (total 4 columns):\n",
      " #   Column      Non-Null Count   Dtype         \n",
      "---  ------      --------------   -----         \n",
      " 0   ID          165002 non-null  object        \n",
      " 1   Date        165002 non-null  datetime64[ns]\n",
      " 2   Element     165002 non-null  object        \n",
      " 3   Data_Value  165002 non-null  int64         \n",
      "dtypes: datetime64[ns](1), int64(1), object(2)\n",
      "memory usage: 6.3+ MB\n",
      "None\n",
      "            ID       Date Element  Data_Value\n",
      "0  USW00094889 2014-11-12    TMAX          22\n",
      "1  USC00208972 2009-04-29    TMIN          56\n",
      "2  USC00200032 2008-05-26    TMAX         278\n",
      "3  USC00205563 2005-11-11    TMAX         139\n",
      "4  USC00200230 2014-02-27    TMAX        -106\n"
     ]
    }
   ],
   "execution_count": 21
  }
 ],
 "metadata": {
  "kernelspec": {
   "display_name": "Python 3",
   "language": "python",
   "name": "python3"
  },
  "language_info": {
   "codemirror_mode": {
    "name": "ipython",
    "version": 3
   },
   "file_extension": ".py",
   "mimetype": "text/x-python",
   "name": "python",
   "nbconvert_exporter": "python",
   "pygments_lexer": "ipython3",
   "version": "3.6.2"
  }
 },
 "nbformat": 4,
 "nbformat_minor": 1
}
